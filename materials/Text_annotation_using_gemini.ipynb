{
  "nbformat": 4,
  "nbformat_minor": 0,
  "metadata": {
    "colab": {
      "provenance": []
    },
    "kernelspec": {
      "name": "python3",
      "display_name": "Python 3"
    },
    "language_info": {
      "name": "python"
    }
  },
  "cells": [
    {
      "cell_type": "code",
      "source": [
        "import pandas as pd\n",
        "import google.generativeai as genai\n",
        "import time\n",
        "\n",
        "# Configure the Gemini API\n",
        "genai.configure(api_key=\"Replace with your API\")\n",
        "model = genai.GenerativeModel('gemini-2.0-flash-001') # Using the flash model\n",
        "\n",
        "# Load the Excel file\n",
        "file_path = 'Starbucks comment.xlsx'\n",
        "df = pd.read_excel(file_path)\n",
        "\n",
        "# Create a new column 'likes_starbucks'\n",
        "df['likes_starbucks'] = None"
      ],
      "metadata": {
        "id": "vk54yev5nm6-"
      },
      "execution_count": 11,
      "outputs": []
    },
    {
      "cell_type": "code",
      "source": [
        "# Function to analyze sentiment with Gemini\n",
        "def analyze_sentiment(comment):\n",
        "    if pd.isna(comment):\n",
        "        return \"N/A\"\n",
        "\n",
        "    prompt = f\"identify the text and identify whether the consumer like Starbuck or not. return yes or no.\\n\\nText: \\\"{comment}\\\"\"\n",
        "\n",
        "    try:\n",
        "        response = model.generate_content(prompt)\n",
        "        result = response.text.strip().lower()\n",
        "\n",
        "        # Extract just the yes/no answer\n",
        "        if \"yes\" in result.lower():\n",
        "            return \"Yes\"\n",
        "        elif \"no\" in result.lower():\n",
        "            return \"No\"\n",
        "        else:\n",
        "            return \"Unclear\"\n",
        "    except Exception as e:\n",
        "        print(f\"Error analyzing comment: {e}\")\n",
        "        return \"Error\"\n",
        "\n",
        "# Process each comment with rate limiting to avoid API throttling\n",
        "for i, row in df.iterrows():\n",
        "    print(f\"Processing comment {i+1}/{len(df)}\")\n",
        "    df.at[i, 'likes_starbucks'] = analyze_sentiment(row['comment'])\n",
        "\n",
        "    # Sleep to avoid hitting API rate limits (adjust as needed)\n",
        "    if i % 10 == 0 and i > 0:\n",
        "        time.sleep(0.5)\n",
        "\n",
        "# Save the updated dataframe to a new Excel file\n",
        "df.to_excel('Starbucks_comments_analyzed.xlsx', index=False)\n",
        "\n",
        "print(\"Analysis complete! Results saved to 'Starbucks_comments_analyzed.xlsx'\")"
      ],
      "metadata": {
        "id": "yuDUdlVv2_CH"
      },
      "execution_count": null,
      "outputs": []
    }
  ]
}